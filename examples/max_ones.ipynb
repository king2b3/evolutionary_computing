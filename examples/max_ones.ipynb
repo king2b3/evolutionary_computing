{
 "cells": [
  {
   "attachments": {},
   "cell_type": "markdown",
   "metadata": {},
   "source": [
    "# Solving a Max Ones problem\n",
    "In this example, a GA is used to evolve a list of 0s and 1s to be all 1s.\n",
    "Often considered the \"Hello World\" of EAs, this problem is a great stating point for new students.\n",
    "\n",
    "This can also serve as an introduction to use the framework!\n",
    "Follow along, and feel free to make changes of your own, and see how you can best improve the algorithm!"
   ]
  },
  {
   "attachments": {},
   "cell_type": "markdown",
   "metadata": {},
   "source": [
    "## Imports and algorithm choices\n",
    "For this example, we will use a simple Canonical GA to solve the problem.\n",
    "\n",
    "We will run the test for 100 generations, using a mutation rate of 0.01, while having a population size of 100."
   ]
  },
  {
   "cell_type": "code",
   "execution_count": null,
   "metadata": {},
   "outputs": [],
   "source": [
    "from ec.individual import BitString\n",
    "from ec.population import FixedSize\n",
    "from ec.selection import RouletteWheelSelection\n",
    "from ec.selection import UniformRandom\n",
    "\n",
    "#simulation parameters\n",
    "MAX_GENERATIONS = 100\n",
    "MUTATION_RATE = 0.01\n",
    "POPULATION_SIZE = 100"
   ]
  }
 ],
 "metadata": {
  "kernelspec": {
   "display_name": "Python 3.8.10 64-bit",
   "language": "python",
   "name": "python3"
  },
  "language_info": {
   "name": "python",
   "version": "3.8.10"
  },
  "orig_nbformat": 4,
  "vscode": {
   "interpreter": {
    "hash": "916dbcbb3f70747c44a77c7bcd40155683ae19c65e1c03b4aa3499c5328201f1"
   }
  }
 },
 "nbformat": 4,
 "nbformat_minor": 2
}
