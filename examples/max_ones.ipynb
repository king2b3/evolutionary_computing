{
 "cells": [
  {
   "attachments": {},
   "cell_type": "markdown",
   "metadata": {},
   "source": [
    "# Solving a Max Ones problem\n",
    "In this example, a GA is used to evolve a list of 0s and 1s to be all 1s.\n",
    "Often considered the \"Hello World\" of EAs, this problem is a great stating point for new students.\n",
    "\n",
    "This can also serve as an introduction to use the framework!\n",
    "Follow along, and feel free to make changes of your own, and see how you can best improve the algorithm!"
   ]
  },
  {
   "cell_type": "markdown",
   "metadata": {},
   "source": [
    "## Cannonical Genetic Algorithm\n",
    "For this algorithm, we will be replicating a Cannonical Genetic Algorithm.\n",
    "This process was first proposed by John Holland, in his semminal work in 1965, where he described the first coined \"Genetic Algorithm\".\n",
    "\n",
    "In this process, a population goes through an interative cycle of evaluating a population against a fitness, then using a selection function to prepare a mating pool of individuals.\n",
    "This mating pool then selects candidates to reproduce through mixing their genes in a situation called crossover, in which a child can be created from two parents.\n",
    "Then, finally each child gene has the chance to mutate their value, before they finally rejoin to become the new final population.\n",
    "This new population then undergoes the same cycle, until some exit condition is met. \n",
    "This condition could be either iterating for a maximum number of generations, or the population reaching some steday state value."
   ]
  },
  {
   "attachments": {},
   "cell_type": "markdown",
   "metadata": {},
   "source": [
    "## Imports and algorithm choices\n",
    "We will run the test for 100 generations, using a mutation rate of 0.01, while having a population size of 100."
   ]
  },
  {
   "cell_type": "code",
   "execution_count": 1,
   "metadata": {},
   "outputs": [],
   "source": [
    "#simulation parameters\n",
    "MAX_GENERATIONS = 50\n",
    "MUTATION_RATE = 0.01\n",
    "POPULATION_SIZE = 100\n",
    "BITSTRING_SIZE = 10"
   ]
  },
  {
   "cell_type": "markdown",
   "metadata": {},
   "source": [
    "## Algorithmic Choices\n",
    "There are many things to decide when building a genetic algorithm, and not all choices are clea in nature.\n",
    "\n",
    "For this problem, we will use the standard CGA methods, where the individual is represented by a string of binary values.\n",
    "Each parent population is decided by a roulette wheel, and parent selection is performed in a uniform random nature."
   ]
  },
  {
   "cell_type": "code",
   "execution_count": 2,
   "metadata": {},
   "outputs": [],
   "source": [
    "from ec.individual import BitString\n",
    "from ec.population import FixedSize\n",
    "from ec.selection import RouletteWheelSelection\n",
    "from ec.selection import UniformRandom\n",
    "from ec.fitness import MaxOnes\n",
    "\n",
    "fit = MaxOnes()\n",
    "mating_pool_sel = RouletteWheelSelection(POPULATION_SIZE)\n",
    "parent_sel = UniformRandom(2)"
   ]
  },
  {
   "cell_type": "markdown",
   "metadata": {},
   "source": [
    "These are just a few options shown for algorithm design.\n",
    "You might want to use a more complex individual representation, or perhaps a custom memetic mutation scheme, but that is beyond the scope of this tutorial.\n",
    "This tutorial is meant to show the ease of use to create an EC algorithm to solve problems, and quickly try new options for algorithm choices.\n",
    "\n",
    "Now, lets build our algorithm loop."
   ]
  },
  {
   "cell_type": "code",
   "execution_count": 4,
   "metadata": {},
   "outputs": [
    {
     "name": "stdout",
     "output_type": "stream",
     "text": [
      "('Max fitness: 0.9000', 'Average fitness: 0.5260', 'Minnimum Fitness: 0.2000', 'Percent Unique: 99.00%')\n",
      "generation 0\n",
      "('Max fitness: 0.9000', 'Average fitness: 0.5360', 'Minnimum Fitness: 0.2000', 'Percent Unique: 89.00%')\n",
      "generation 1\n",
      "('Max fitness: 0.9000', 'Average fitness: 0.5690', 'Minnimum Fitness: 0.3000', 'Percent Unique: 82.00%')\n",
      "generation 2\n",
      "('Max fitness: 0.9000', 'Average fitness: 0.5770', 'Minnimum Fitness: 0.3000', 'Percent Unique: 89.00%')\n",
      "generation 3\n",
      "('Max fitness: 0.9000', 'Average fitness: 0.6130', 'Minnimum Fitness: 0.3000', 'Percent Unique: 83.00%')\n",
      "generation 4\n",
      "('Max fitness: 0.9000', 'Average fitness: 0.6280', 'Minnimum Fitness: 0.3000', 'Percent Unique: 80.00%')\n",
      "generation 5\n",
      "('Max fitness: 1.0000', 'Average fitness: 0.6820', 'Minnimum Fitness: 0.3000', 'Percent Unique: 72.00%')\n",
      "generation 6\n",
      "('Max fitness: 1.0000', 'Average fitness: 0.7110', 'Minnimum Fitness: 0.4000', 'Percent Unique: 71.00%')\n",
      "generation 7\n",
      "('Max fitness: 1.0000', 'Average fitness: 0.7030', 'Minnimum Fitness: 0.5000', 'Percent Unique: 53.00%')\n",
      "generation 8\n",
      "('Max fitness: 1.0000', 'Average fitness: 0.7110', 'Minnimum Fitness: 0.5000', 'Percent Unique: 45.00%')\n",
      "generation 9\n",
      "('Max fitness: 1.0000', 'Average fitness: 0.7360', 'Minnimum Fitness: 0.4000', 'Percent Unique: 41.00%')\n",
      "generation 10\n",
      "('Max fitness: 1.0000', 'Average fitness: 0.7750', 'Minnimum Fitness: 0.6000', 'Percent Unique: 31.00%')\n",
      "generation 11\n",
      "('Max fitness: 1.0000', 'Average fitness: 0.7850', 'Minnimum Fitness: 0.6000', 'Percent Unique: 34.00%')\n",
      "generation 12\n",
      "('Max fitness: 1.0000', 'Average fitness: 0.8210', 'Minnimum Fitness: 0.5000', 'Percent Unique: 37.00%')\n",
      "generation 13\n",
      "('Max fitness: 1.0000', 'Average fitness: 0.8520', 'Minnimum Fitness: 0.6000', 'Percent Unique: 29.00%')\n",
      "generation 14\n",
      "('Max fitness: 1.0000', 'Average fitness: 0.8720', 'Minnimum Fitness: 0.6000', 'Percent Unique: 21.00%')\n",
      "generation 15\n",
      "('Max fitness: 1.0000', 'Average fitness: 0.8870', 'Minnimum Fitness: 0.6000', 'Percent Unique: 21.00%')\n",
      "generation 16\n",
      "('Max fitness: 1.0000', 'Average fitness: 0.9050', 'Minnimum Fitness: 0.7000', 'Percent Unique: 19.00%')\n",
      "generation 17\n",
      "('Max fitness: 1.0000', 'Average fitness: 0.9180', 'Minnimum Fitness: 0.6000', 'Percent Unique: 17.00%')\n",
      "generation 18\n",
      "('Max fitness: 1.0000', 'Average fitness: 0.9370', 'Minnimum Fitness: 0.7000', 'Percent Unique: 14.00%')\n",
      "generation 19\n",
      "('Max fitness: 1.0000', 'Average fitness: 0.9520', 'Minnimum Fitness: 0.7000', 'Percent Unique: 10.00%')\n",
      "generation 20\n",
      "('Max fitness: 1.0000', 'Average fitness: 0.9780', 'Minnimum Fitness: 0.8000', 'Percent Unique: 4.00%')\n",
      "generation 21\n",
      "('Max fitness: 1.0000', 'Average fitness: 0.9750', 'Minnimum Fitness: 0.8000', 'Percent Unique: 4.00%')\n",
      "generation 22\n",
      "('Max fitness: 1.0000', 'Average fitness: 0.9710', 'Minnimum Fitness: 0.8000', 'Percent Unique: 4.00%')\n",
      "generation 23\n",
      "('Max fitness: 1.0000', 'Average fitness: 0.9810', 'Minnimum Fitness: 0.8000', 'Percent Unique: 4.00%')\n",
      "generation 24\n",
      "('Max fitness: 1.0000', 'Average fitness: 0.9850', 'Minnimum Fitness: 0.9000', 'Percent Unique: 3.00%')\n",
      "generation 25\n",
      "('Max fitness: 1.0000', 'Average fitness: 0.9880', 'Minnimum Fitness: 0.9000', 'Percent Unique: 3.00%')\n",
      "generation 26\n",
      "('Max fitness: 1.0000', 'Average fitness: 0.9910', 'Minnimum Fitness: 0.9000', 'Percent Unique: 2.00%')\n",
      "generation 27\n",
      "('Max fitness: 1.0000', 'Average fitness: 0.9900', 'Minnimum Fitness: 0.9000', 'Percent Unique: 2.00%')\n",
      "generation 28\n",
      "('Max fitness: 1.0000', 'Average fitness: 0.9910', 'Minnimum Fitness: 0.9000', 'Percent Unique: 2.00%')\n",
      "generation 29\n",
      "('Max fitness: 1.0000', 'Average fitness: 0.9900', 'Minnimum Fitness: 0.9000', 'Percent Unique: 2.00%')\n",
      "generation 30\n",
      "('Max fitness: 1.0000', 'Average fitness: 0.9910', 'Minnimum Fitness: 0.9000', 'Percent Unique: 2.00%')\n",
      "generation 31\n",
      "('Max fitness: 1.0000', 'Average fitness: 0.9870', 'Minnimum Fitness: 0.9000', 'Percent Unique: 2.00%')\n",
      "generation 32\n",
      "('Max fitness: 1.0000', 'Average fitness: 0.9900', 'Minnimum Fitness: 0.9000', 'Percent Unique: 2.00%')\n",
      "generation 33\n",
      "('Max fitness: 1.0000', 'Average fitness: 0.9920', 'Minnimum Fitness: 0.9000', 'Percent Unique: 2.00%')\n",
      "generation 34\n",
      "('Max fitness: 1.0000', 'Average fitness: 0.9930', 'Minnimum Fitness: 0.9000', 'Percent Unique: 2.00%')\n",
      "generation 35\n",
      "('Max fitness: 1.0000', 'Average fitness: 0.9970', 'Minnimum Fitness: 0.9000', 'Percent Unique: 2.00%')\n",
      "generation 36\n",
      "('Max fitness: 1.0000', 'Average fitness: 1.0000', 'Minnimum Fitness: 1.0000', 'Percent Unique: 1.00%')\n",
      "termination condition met\n"
     ]
    }
   ],
   "source": [
    "#create initial population\n",
    "population = FixedSize(POPULATION_SIZE)\n",
    "#generate population randomly\n",
    "population.population = [BitString(BITSTRING_SIZE, MUTATION_RATE) for _ in range(POPULATION_SIZE)]\n",
    "\n",
    "population.calculate_fitness(fit)\n",
    "print(population.popStats())\n",
    "\n",
    "for gen in range(MAX_GENERATIONS):\n",
    "    print(f\"generation {gen}\")\n",
    "    #step 1: calculate fitness of the population\n",
    "\n",
    "    #select the matint pool\n",
    "    mating_pool = mating_pool_sel(population)\n",
    "\n",
    "    #perform crossover to create the child pool\n",
    "    new_pop = []\n",
    "    for _ in range(POPULATION_SIZE):\n",
    "        parents = parent_sel(mating_pool)\n",
    "        new_pop.append(parents[0].crossover(parents[1]))\n",
    "    \n",
    "    population.population = new_pop.copy()\n",
    "\n",
    "    population.calculate_fitness(fit)\n",
    "    print(population.popStats())\n",
    "\n",
    "    if fit.check_terminate(population):\n",
    "        break\n",
    "\n",
    "print(\"termination condition met\")\n"
   ]
  },
  {
   "cell_type": "markdown",
   "metadata": {},
   "source": [
    "Did your test work?\n",
    "How many generations did it need?\n",
    "\n",
    "Let's now look at our final population!"
   ]
  },
  {
   "cell_type": "code",
   "execution_count": 6,
   "metadata": {},
   "outputs": [
    {
     "name": "stdout",
     "output_type": "stream",
     "text": [
      "[1, 1, 1, 1, 1, 1, 1, 1, 1, 1]\n",
      "[1, 1, 1, 1, 1, 1, 1, 1, 1, 1]\n",
      "[1, 1, 1, 1, 1, 1, 1, 1, 1, 1]\n",
      "[1, 1, 1, 1, 1, 1, 1, 1, 1, 1]\n",
      "[1, 1, 1, 1, 1, 1, 1, 1, 1, 1]\n",
      "[1, 1, 1, 1, 1, 1, 1, 1, 1, 1]\n",
      "[1, 1, 1, 1, 1, 1, 1, 1, 1, 1]\n",
      "[1, 1, 1, 1, 1, 1, 1, 1, 1, 1]\n",
      "[1, 1, 1, 1, 1, 1, 1, 1, 1, 1]\n",
      "[1, 1, 1, 1, 1, 1, 1, 1, 1, 1]\n",
      "[1, 1, 1, 1, 1, 1, 1, 1, 1, 1]\n",
      "[1, 1, 1, 1, 1, 1, 1, 1, 1, 1]\n",
      "[1, 1, 1, 1, 1, 1, 1, 1, 1, 1]\n",
      "[1, 1, 1, 1, 1, 1, 1, 1, 1, 1]\n",
      "[1, 1, 1, 1, 1, 1, 1, 1, 1, 1]\n",
      "[1, 1, 1, 1, 1, 1, 1, 1, 1, 1]\n",
      "[1, 1, 1, 1, 1, 1, 1, 1, 1, 1]\n",
      "[1, 1, 1, 1, 1, 1, 1, 1, 1, 1]\n",
      "[1, 1, 1, 1, 1, 1, 1, 1, 1, 1]\n",
      "[1, 1, 1, 1, 1, 1, 1, 1, 1, 1]\n",
      "[1, 1, 1, 1, 1, 1, 1, 1, 1, 1]\n",
      "[1, 1, 1, 1, 1, 1, 1, 1, 1, 1]\n",
      "[1, 1, 1, 1, 1, 1, 1, 1, 1, 1]\n",
      "[1, 1, 1, 1, 1, 1, 1, 1, 1, 1]\n",
      "[1, 1, 1, 1, 1, 1, 1, 1, 1, 1]\n",
      "[1, 1, 1, 1, 1, 1, 1, 1, 1, 1]\n",
      "[1, 1, 1, 1, 1, 1, 1, 1, 1, 1]\n",
      "[1, 1, 1, 1, 1, 1, 1, 1, 1, 1]\n",
      "[1, 1, 1, 1, 1, 1, 1, 1, 1, 1]\n",
      "[1, 1, 1, 1, 1, 1, 1, 1, 1, 1]\n",
      "[1, 1, 1, 1, 1, 1, 1, 1, 1, 1]\n",
      "[1, 1, 1, 1, 1, 1, 1, 1, 1, 1]\n",
      "[1, 1, 1, 1, 1, 1, 1, 1, 1, 1]\n",
      "[1, 1, 1, 1, 1, 1, 1, 1, 1, 1]\n",
      "[1, 1, 1, 1, 1, 1, 1, 1, 1, 1]\n",
      "[1, 1, 1, 1, 1, 1, 1, 1, 1, 1]\n",
      "[1, 1, 1, 1, 1, 1, 1, 1, 1, 1]\n",
      "[1, 1, 1, 1, 1, 1, 1, 1, 1, 1]\n",
      "[1, 1, 1, 1, 1, 1, 1, 1, 1, 1]\n",
      "[1, 1, 1, 1, 1, 1, 1, 1, 1, 1]\n",
      "[1, 1, 1, 1, 1, 1, 1, 1, 1, 1]\n",
      "[1, 1, 1, 1, 1, 1, 1, 1, 1, 1]\n",
      "[1, 1, 1, 1, 1, 1, 1, 1, 1, 1]\n",
      "[1, 1, 1, 1, 1, 1, 1, 1, 1, 1]\n",
      "[1, 1, 1, 1, 1, 1, 1, 1, 1, 1]\n",
      "[1, 1, 1, 1, 1, 1, 1, 1, 1, 1]\n",
      "[1, 1, 1, 1, 1, 1, 1, 1, 1, 1]\n",
      "[1, 1, 1, 1, 1, 1, 1, 1, 1, 1]\n",
      "[1, 1, 1, 1, 1, 1, 1, 1, 1, 1]\n",
      "[1, 1, 1, 1, 1, 1, 1, 1, 1, 1]\n",
      "[1, 1, 1, 1, 1, 1, 1, 1, 1, 1]\n",
      "[1, 1, 1, 1, 1, 1, 1, 1, 1, 1]\n",
      "[1, 1, 1, 1, 1, 1, 1, 1, 1, 1]\n",
      "[1, 1, 1, 1, 1, 1, 1, 1, 1, 1]\n",
      "[1, 1, 1, 1, 1, 1, 1, 1, 1, 1]\n",
      "[1, 1, 1, 1, 1, 1, 1, 1, 1, 1]\n",
      "[1, 1, 1, 1, 1, 1, 1, 1, 1, 1]\n",
      "[1, 1, 1, 1, 1, 1, 1, 1, 1, 1]\n",
      "[1, 1, 1, 1, 1, 1, 1, 1, 1, 1]\n",
      "[1, 1, 1, 1, 1, 1, 1, 1, 1, 1]\n",
      "[1, 1, 1, 1, 1, 1, 1, 1, 1, 1]\n",
      "[1, 1, 1, 1, 1, 1, 1, 1, 1, 1]\n",
      "[1, 1, 1, 1, 1, 1, 1, 1, 1, 1]\n",
      "[1, 1, 1, 1, 1, 1, 1, 1, 1, 1]\n",
      "[1, 1, 1, 1, 1, 1, 1, 1, 1, 1]\n",
      "[1, 1, 1, 1, 1, 1, 1, 1, 1, 1]\n",
      "[1, 1, 1, 1, 1, 1, 1, 1, 1, 1]\n",
      "[1, 1, 1, 1, 1, 1, 1, 1, 1, 1]\n",
      "[1, 1, 1, 1, 1, 1, 1, 1, 1, 1]\n",
      "[1, 1, 1, 1, 1, 1, 1, 1, 1, 1]\n",
      "[1, 1, 1, 1, 1, 1, 1, 1, 1, 1]\n",
      "[1, 1, 1, 1, 1, 1, 1, 1, 1, 1]\n",
      "[1, 1, 1, 1, 1, 1, 1, 1, 1, 1]\n",
      "[1, 1, 1, 1, 1, 1, 1, 1, 1, 1]\n",
      "[1, 1, 1, 1, 1, 1, 1, 1, 1, 1]\n",
      "[1, 1, 1, 1, 1, 1, 1, 1, 1, 1]\n",
      "[1, 1, 1, 1, 1, 1, 1, 1, 1, 1]\n",
      "[1, 1, 1, 1, 1, 1, 1, 1, 1, 1]\n",
      "[1, 1, 1, 1, 1, 1, 1, 1, 1, 1]\n",
      "[1, 1, 1, 1, 1, 1, 1, 1, 1, 1]\n",
      "[1, 1, 1, 1, 1, 1, 1, 1, 1, 1]\n",
      "[1, 1, 1, 1, 1, 1, 1, 1, 1, 1]\n",
      "[1, 1, 1, 1, 1, 1, 1, 1, 1, 1]\n",
      "[1, 1, 1, 1, 1, 1, 1, 1, 1, 1]\n",
      "[1, 1, 1, 1, 1, 1, 1, 1, 1, 1]\n",
      "[1, 1, 1, 1, 1, 1, 1, 1, 1, 1]\n",
      "[1, 1, 1, 1, 1, 1, 1, 1, 1, 1]\n",
      "[1, 1, 1, 1, 1, 1, 1, 1, 1, 1]\n",
      "[1, 1, 1, 1, 1, 1, 1, 1, 1, 1]\n",
      "[1, 1, 1, 1, 1, 1, 1, 1, 1, 1]\n",
      "[1, 1, 1, 1, 1, 1, 1, 1, 1, 1]\n",
      "[1, 1, 1, 1, 1, 1, 1, 1, 1, 1]\n",
      "[1, 1, 1, 1, 1, 1, 1, 1, 1, 1]\n",
      "[1, 1, 1, 1, 1, 1, 1, 1, 1, 1]\n",
      "[1, 1, 1, 1, 1, 1, 1, 1, 1, 1]\n",
      "[1, 1, 1, 1, 1, 1, 1, 1, 1, 1]\n",
      "[1, 1, 1, 1, 1, 1, 1, 1, 1, 1]\n",
      "[1, 1, 1, 1, 1, 1, 1, 1, 1, 1]\n",
      "[1, 1, 1, 1, 1, 1, 1, 1, 1, 1]\n",
      "[1, 1, 1, 1, 1, 1, 1, 1, 1, 1]\n"
     ]
    }
   ],
   "source": [
    "for ind in population.population:\n",
    "    print(ind.val)"
   ]
  },
  {
   "cell_type": "code",
   "execution_count": 7,
   "metadata": {},
   "outputs": [
    {
     "name": "stdout",
     "output_type": "stream",
     "text": [
      "Max fitness: 1.0000\n",
      "Average fitness: 1.0000\n",
      "Minnimum Fitness: 1.0000\n",
      "Percent Unique: 1.00%\n"
     ]
    }
   ],
   "source": [
    "#Lets print out some stats of our final population\n",
    "\n",
    "print(f\"Max fitness: {population.getMaxInd():.4f}\")\n",
    "print(f\"Average fitness: {population.getAverageInd():.4f}\")\n",
    "print(f\"Minnimum Fitness: {population.getMinInd():.4f}\")\n",
    "print(f\"Percent Unique: {population.getNumSame():.2f}%\")"
   ]
  },
  {
   "cell_type": "markdown",
   "metadata": {},
   "source": [
    "So, we should see that our entire population has converged to a single bit string of 1s!"
   ]
  }
 ],
 "metadata": {
  "kernelspec": {
   "display_name": "Python 3.8.10 64-bit",
   "language": "python",
   "name": "python3"
  },
  "language_info": {
   "codemirror_mode": {
    "name": "ipython",
    "version": 3
   },
   "file_extension": ".py",
   "mimetype": "text/x-python",
   "name": "python",
   "nbconvert_exporter": "python",
   "pygments_lexer": "ipython3",
   "version": "3.8.16"
  },
  "orig_nbformat": 4,
  "vscode": {
   "interpreter": {
    "hash": "916dbcbb3f70747c44a77c7bcd40155683ae19c65e1c03b4aa3499c5328201f1"
   }
  }
 },
 "nbformat": 4,
 "nbformat_minor": 2
}
